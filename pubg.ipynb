{
  "nbformat": 4,
  "nbformat_minor": 0,
  "metadata": {
    "colab": {
      "name": "pubg2.ipynb",
      "version": "0.3.2",
      "provenance": []
    },
    "kernelspec": {
      "name": "python3",
      "display_name": "Python 3"
    }
  },
  "cells": [
    {
      "cell_type": "markdown",
      "metadata": {
        "id": "uDOfrJ65gKES",
        "colab_type": "text"
      },
      "source": [
        "##Importing the libraries##"
      ]
    },
    {
      "cell_type": "code",
      "metadata": {
        "id": "wDBbbYwcTjaX",
        "colab_type": "code",
        "colab": {}
      },
      "source": [
        "import numpy as np\n",
        "import tensorflow as tf\n",
        "import pandas as pd\n",
        "from sklearn.model_selection import train_test_split\n",
        "from sklearn.metrics import log_loss\n",
        "from sklearn.preprocessing import StandardScaler\n",
        "from sklearn.preprocessing import MinMaxScaler\n",
        "from sklearn.preprocessing import Normalizer"
      ],
      "execution_count": 0,
      "outputs": []
    },
    {
      "cell_type": "markdown",
      "metadata": {
        "id": "eD1ZXAfugMa_",
        "colab_type": "text"
      },
      "source": [
        "##Loading the training data"
      ]
    },
    {
      "cell_type": "code",
      "metadata": {
        "id": "oKV-WjaATpRY",
        "colab_type": "code",
        "colab": {}
      },
      "source": [
        "data = pd.read_csv('data_train.csv')"
      ],
      "execution_count": 0,
      "outputs": []
    },
    {
      "cell_type": "markdown",
      "metadata": {
        "id": "rFkjQ7FQgXau",
        "colab_type": "text"
      },
      "source": [
        "##Peek into the dataset##"
      ]
    },
    {
      "cell_type": "code",
      "metadata": {
        "id": "gjdNoJs1T5Oi",
        "colab_type": "code",
        "outputId": "2b7b05d4-2eba-4dcc-fb4d-1653b91220fb",
        "colab": {
          "base_uri": "https://localhost:8080/",
          "height": 204
        }
      },
      "source": [
        "data.head()"
      ],
      "execution_count": 0,
      "outputs": [
        {
          "output_type": "execute_result",
          "data": {
            "text/html": [
              "<div>\n",
              "<style scoped>\n",
              "    .dataframe tbody tr th:only-of-type {\n",
              "        vertical-align: middle;\n",
              "    }\n",
              "\n",
              "    .dataframe tbody tr th {\n",
              "        vertical-align: top;\n",
              "    }\n",
              "\n",
              "    .dataframe thead th {\n",
              "        text-align: right;\n",
              "    }\n",
              "</style>\n",
              "<table border=\"1\" class=\"dataframe\">\n",
              "  <thead>\n",
              "    <tr style=\"text-align: right;\">\n",
              "      <th></th>\n",
              "      <th>feature-1</th>\n",
              "      <th>feature-2</th>\n",
              "      <th>feature-3</th>\n",
              "      <th>feature-4</th>\n",
              "      <th>feature-5</th>\n",
              "      <th>feature-6</th>\n",
              "      <th>feature-7</th>\n",
              "      <th>feature-8</th>\n",
              "      <th>feature-9</th>\n",
              "      <th>feature-10</th>\n",
              "      <th>label</th>\n",
              "    </tr>\n",
              "  </thead>\n",
              "  <tbody>\n",
              "    <tr>\n",
              "      <th>0</th>\n",
              "      <td>20.306201</td>\n",
              "      <td>7.246964</td>\n",
              "      <td>30.746074</td>\n",
              "      <td>70.738222</td>\n",
              "      <td>82.089549</td>\n",
              "      <td>44.537815</td>\n",
              "      <td>56.908667</td>\n",
              "      <td>17.261529</td>\n",
              "      <td>27.450978</td>\n",
              "      <td>42.425691</td>\n",
              "      <td>7</td>\n",
              "    </tr>\n",
              "    <tr>\n",
              "      <th>1</th>\n",
              "      <td>26.752616</td>\n",
              "      <td>16.396760</td>\n",
              "      <td>30.277686</td>\n",
              "      <td>39.271342</td>\n",
              "      <td>80.597014</td>\n",
              "      <td>31.302522</td>\n",
              "      <td>76.580799</td>\n",
              "      <td>50.305849</td>\n",
              "      <td>63.137250</td>\n",
              "      <td>29.514480</td>\n",
              "      <td>3</td>\n",
              "    </tr>\n",
              "    <tr>\n",
              "      <th>2</th>\n",
              "      <td>23.448827</td>\n",
              "      <td>14.291499</td>\n",
              "      <td>31.549011</td>\n",
              "      <td>57.424320</td>\n",
              "      <td>86.567170</td>\n",
              "      <td>37.394956</td>\n",
              "      <td>78.454333</td>\n",
              "      <td>44.758231</td>\n",
              "      <td>59.215678</td>\n",
              "      <td>34.578621</td>\n",
              "      <td>4</td>\n",
              "    </tr>\n",
              "    <tr>\n",
              "      <th>3</th>\n",
              "      <td>21.998386</td>\n",
              "      <td>10.850202</td>\n",
              "      <td>32.920712</td>\n",
              "      <td>65.819695</td>\n",
              "      <td>86.567170</td>\n",
              "      <td>39.075630</td>\n",
              "      <td>74.004684</td>\n",
              "      <td>50.591210</td>\n",
              "      <td>58.431376</td>\n",
              "      <td>38.060054</td>\n",
              "      <td>3</td>\n",
              "    </tr>\n",
              "    <tr>\n",
              "      <th>4</th>\n",
              "      <td>26.188554</td>\n",
              "      <td>10.364373</td>\n",
              "      <td>31.381732</td>\n",
              "      <td>63.537360</td>\n",
              "      <td>98.507465</td>\n",
              "      <td>36.554622</td>\n",
              "      <td>66.042155</td>\n",
              "      <td>52.787542</td>\n",
              "      <td>75.294116</td>\n",
              "      <td>40.018760</td>\n",
              "      <td>6</td>\n",
              "    </tr>\n",
              "  </tbody>\n",
              "</table>\n",
              "</div>"
            ],
            "text/plain": [
              "   feature-1  feature-2  feature-3  feature-4  feature-5  feature-6  \\\n",
              "0  20.306201   7.246964  30.746074  70.738222  82.089549  44.537815   \n",
              "1  26.752616  16.396760  30.277686  39.271342  80.597014  31.302522   \n",
              "2  23.448827  14.291499  31.549011  57.424320  86.567170  37.394956   \n",
              "3  21.998386  10.850202  32.920712  65.819695  86.567170  39.075630   \n",
              "4  26.188554  10.364373  31.381732  63.537360  98.507465  36.554622   \n",
              "\n",
              "   feature-7  feature-8  feature-9  feature-10  label  \n",
              "0  56.908667  17.261529  27.450978   42.425691      7  \n",
              "1  76.580799  50.305849  63.137250   29.514480      3  \n",
              "2  78.454333  44.758231  59.215678   34.578621      4  \n",
              "3  74.004684  50.591210  58.431376   38.060054      3  \n",
              "4  66.042155  52.787542  75.294116   40.018760      6  "
            ]
          },
          "metadata": {
            "tags": []
          },
          "execution_count": 4
        }
      ]
    },
    {
      "cell_type": "markdown",
      "metadata": {
        "id": "QfQvRehOgbjU",
        "colab_type": "text"
      },
      "source": [
        "##Checking if there exists any NaN value in the dataset"
      ]
    },
    {
      "cell_type": "code",
      "metadata": {
        "id": "xaA_gC9wVL1L",
        "colab_type": "code",
        "outputId": "ef91f243-6c25-48e3-8100-d34aae4e4173",
        "colab": {
          "base_uri": "https://localhost:8080/",
          "height": 221
        }
      },
      "source": [
        "data.isnull().sum()"
      ],
      "execution_count": 0,
      "outputs": [
        {
          "output_type": "execute_result",
          "data": {
            "text/plain": [
              "feature-1     0\n",
              "feature-2     0\n",
              "feature-3     0\n",
              "feature-4     0\n",
              "feature-5     0\n",
              "feature-6     0\n",
              "feature-7     0\n",
              "feature-8     0\n",
              "feature-9     0\n",
              "feature-10    0\n",
              "label         0\n",
              "dtype: int64"
            ]
          },
          "metadata": {
            "tags": []
          },
          "execution_count": 83
        }
      ]
    },
    {
      "cell_type": "markdown",
      "metadata": {
        "id": "8nf0zUgRgfqM",
        "colab_type": "text"
      },
      "source": [
        "##Overview of the dataset##"
      ]
    },
    {
      "cell_type": "code",
      "metadata": {
        "id": "6qKrTkCRY_Vv",
        "colab_type": "code",
        "outputId": "41eaae1a-9c15-4c03-b74d-09502a6b9e23",
        "colab": {
          "base_uri": "https://localhost:8080/",
          "height": 297
        }
      },
      "source": [
        "data.describe()"
      ],
      "execution_count": 0,
      "outputs": [
        {
          "output_type": "execute_result",
          "data": {
            "text/html": [
              "<div>\n",
              "<style scoped>\n",
              "    .dataframe tbody tr th:only-of-type {\n",
              "        vertical-align: middle;\n",
              "    }\n",
              "\n",
              "    .dataframe tbody tr th {\n",
              "        vertical-align: top;\n",
              "    }\n",
              "\n",
              "    .dataframe thead th {\n",
              "        text-align: right;\n",
              "    }\n",
              "</style>\n",
              "<table border=\"1\" class=\"dataframe\">\n",
              "  <thead>\n",
              "    <tr style=\"text-align: right;\">\n",
              "      <th></th>\n",
              "      <th>feature-1</th>\n",
              "      <th>feature-2</th>\n",
              "      <th>feature-3</th>\n",
              "      <th>feature-4</th>\n",
              "      <th>feature-5</th>\n",
              "      <th>feature-6</th>\n",
              "      <th>feature-7</th>\n",
              "      <th>feature-8</th>\n",
              "      <th>feature-9</th>\n",
              "      <th>feature-10</th>\n",
              "      <th>label</th>\n",
              "    </tr>\n",
              "  </thead>\n",
              "  <tbody>\n",
              "    <tr>\n",
              "      <th>count</th>\n",
              "      <td>6374.000000</td>\n",
              "      <td>6374.000000</td>\n",
              "      <td>6374.000000</td>\n",
              "      <td>6374.000000</td>\n",
              "      <td>6374.000000</td>\n",
              "      <td>6374.000000</td>\n",
              "      <td>6374.000000</td>\n",
              "      <td>6374.000000</td>\n",
              "      <td>6374.000000</td>\n",
              "      <td>6374.000000</td>\n",
              "      <td>6374.000000</td>\n",
              "    </tr>\n",
              "    <tr>\n",
              "      <th>mean</th>\n",
              "      <td>23.166521</td>\n",
              "      <td>12.426431</td>\n",
              "      <td>30.589465</td>\n",
              "      <td>57.230358</td>\n",
              "      <td>83.959795</td>\n",
              "      <td>37.104464</td>\n",
              "      <td>73.845752</td>\n",
              "      <td>49.324234</td>\n",
              "      <td>61.621946</td>\n",
              "      <td>35.661977</td>\n",
              "      <td>3.465955</td>\n",
              "    </tr>\n",
              "    <tr>\n",
              "      <th>std</th>\n",
              "      <td>6.564205</td>\n",
              "      <td>3.805370</td>\n",
              "      <td>8.188267</td>\n",
              "      <td>10.730085</td>\n",
              "      <td>14.449739</td>\n",
              "      <td>4.825946</td>\n",
              "      <td>6.121520</td>\n",
              "      <td>12.434835</td>\n",
              "      <td>12.977496</td>\n",
              "      <td>5.084599</td>\n",
              "      <td>1.860678</td>\n",
              "    </tr>\n",
              "    <tr>\n",
              "      <th>min</th>\n",
              "      <td>0.000000</td>\n",
              "      <td>0.000000</td>\n",
              "      <td>0.000000</td>\n",
              "      <td>0.000000</td>\n",
              "      <td>0.000000</td>\n",
              "      <td>0.000000</td>\n",
              "      <td>0.000000</td>\n",
              "      <td>-1.889547</td>\n",
              "      <td>-3.921559</td>\n",
              "      <td>0.000000</td>\n",
              "      <td>1.000000</td>\n",
              "    </tr>\n",
              "    <tr>\n",
              "      <th>25%</th>\n",
              "      <td>21.917804</td>\n",
              "      <td>11.174091</td>\n",
              "      <td>30.946806</td>\n",
              "      <td>51.455617</td>\n",
              "      <td>85.074635</td>\n",
              "      <td>34.033614</td>\n",
              "      <td>73.302109</td>\n",
              "      <td>42.536299</td>\n",
              "      <td>56.470584</td>\n",
              "      <td>32.829086</td>\n",
              "      <td>2.000000</td>\n",
              "    </tr>\n",
              "    <tr>\n",
              "      <th>50%</th>\n",
              "      <td>23.045928</td>\n",
              "      <td>12.226719</td>\n",
              "      <td>32.218131</td>\n",
              "      <td>57.712983</td>\n",
              "      <td>86.567170</td>\n",
              "      <td>36.554622</td>\n",
              "      <td>75.175644</td>\n",
              "      <td>50.566766</td>\n",
              "      <td>61.568621</td>\n",
              "      <td>35.353277</td>\n",
              "      <td>3.000000</td>\n",
              "    </tr>\n",
              "    <tr>\n",
              "      <th>75%</th>\n",
              "      <td>24.335213</td>\n",
              "      <td>13.562751</td>\n",
              "      <td>33.389090</td>\n",
              "      <td>64.004197</td>\n",
              "      <td>86.567170</td>\n",
              "      <td>39.705884</td>\n",
              "      <td>76.580799</td>\n",
              "      <td>57.378338</td>\n",
              "      <td>68.627450</td>\n",
              "      <td>38.366644</td>\n",
              "      <td>5.000000</td>\n",
              "    </tr>\n",
              "    <tr>\n",
              "      <th>max</th>\n",
              "      <td>100.000000</td>\n",
              "      <td>100.000000</td>\n",
              "      <td>100.000000</td>\n",
              "      <td>100.000000</td>\n",
              "      <td>100.000000</td>\n",
              "      <td>60.504201</td>\n",
              "      <td>119.906328</td>\n",
              "      <td>103.113400</td>\n",
              "      <td>100.392151</td>\n",
              "      <td>57.715040</td>\n",
              "      <td>7.000000</td>\n",
              "    </tr>\n",
              "  </tbody>\n",
              "</table>\n",
              "</div>"
            ],
            "text/plain": [
              "         feature-1    feature-2    feature-3    feature-4    feature-5  \\\n",
              "count  6374.000000  6374.000000  6374.000000  6374.000000  6374.000000   \n",
              "mean     23.166521    12.426431    30.589465    57.230358    83.959795   \n",
              "std       6.564205     3.805370     8.188267    10.730085    14.449739   \n",
              "min       0.000000     0.000000     0.000000     0.000000     0.000000   \n",
              "25%      21.917804    11.174091    30.946806    51.455617    85.074635   \n",
              "50%      23.045928    12.226719    32.218131    57.712983    86.567170   \n",
              "75%      24.335213    13.562751    33.389090    64.004197    86.567170   \n",
              "max     100.000000   100.000000   100.000000   100.000000   100.000000   \n",
              "\n",
              "         feature-6    feature-7    feature-8    feature-9   feature-10  \\\n",
              "count  6374.000000  6374.000000  6374.000000  6374.000000  6374.000000   \n",
              "mean     37.104464    73.845752    49.324234    61.621946    35.661977   \n",
              "std       4.825946     6.121520    12.434835    12.977496     5.084599   \n",
              "min       0.000000     0.000000    -1.889547    -3.921559     0.000000   \n",
              "25%      34.033614    73.302109    42.536299    56.470584    32.829086   \n",
              "50%      36.554622    75.175644    50.566766    61.568621    35.353277   \n",
              "75%      39.705884    76.580799    57.378338    68.627450    38.366644   \n",
              "max      60.504201   119.906328   103.113400   100.392151    57.715040   \n",
              "\n",
              "             label  \n",
              "count  6374.000000  \n",
              "mean      3.465955  \n",
              "std       1.860678  \n",
              "min       1.000000  \n",
              "25%       2.000000  \n",
              "50%       3.000000  \n",
              "75%       5.000000  \n",
              "max       7.000000  "
            ]
          },
          "metadata": {
            "tags": []
          },
          "execution_count": 5
        }
      ]
    },
    {
      "cell_type": "markdown",
      "metadata": {
        "id": "Nq5GKvgogs5-",
        "colab_type": "text"
      },
      "source": [
        "###Segregating the features from the 'label'"
      ]
    },
    {
      "cell_type": "code",
      "metadata": {
        "id": "fiJN6FIwT6ZK",
        "colab_type": "code",
        "outputId": "141ac9e6-e1de-4cf9-8bd0-74df2b6aec25",
        "colab": {
          "base_uri": "https://localhost:8080/",
          "height": 187
        }
      },
      "source": [
        "features = list(set(data.columns) - {'label'})\n",
        "features"
      ],
      "execution_count": 0,
      "outputs": [
        {
          "output_type": "execute_result",
          "data": {
            "text/plain": [
              "['feature-2',\n",
              " 'feature-9',\n",
              " 'feature-7',\n",
              " 'feature-10',\n",
              " 'feature-8',\n",
              " 'feature-3',\n",
              " 'feature-5',\n",
              " 'feature-4',\n",
              " 'feature-1',\n",
              " 'feature-6']"
            ]
          },
          "metadata": {
            "tags": []
          },
          "execution_count": 6
        }
      ]
    },
    {
      "cell_type": "markdown",
      "metadata": {
        "id": "m6sU70-kg0-N",
        "colab_type": "text"
      },
      "source": [
        "##Data Preprocessing\n",
        "\n",
        "Using Standard Scaler to scale the dataset so as to get better performance"
      ]
    },
    {
      "cell_type": "code",
      "metadata": {
        "id": "Lgrv4zVKUEfK",
        "colab_type": "code",
        "colab": {}
      },
      "source": [
        "scaler = StandardScaler()\n",
        "scaler.fit(data[features])\n",
        "scaled_data = pd.DataFrame(scaler.transform(data[features]))\n",
        "scaled_data.columns = features\n",
        "scaled_data = scaled_data.join(data['label'])\n",
        "scaled_data['label'] = scaled_data['label'] - 1"
      ],
      "execution_count": 0,
      "outputs": []
    },
    {
      "cell_type": "code",
      "metadata": {
        "id": "SeBYmQ5-dQyF",
        "colab_type": "code",
        "outputId": "a6f3eb63-c29f-4d2f-ba10-bbfc8876994f",
        "colab": {
          "base_uri": "https://localhost:8080/",
          "height": 204
        }
      },
      "source": [
        "scaled_data.head()"
      ],
      "execution_count": 0,
      "outputs": [
        {
          "output_type": "execute_result",
          "data": {
            "text/html": [
              "<div>\n",
              "<style scoped>\n",
              "    .dataframe tbody tr th:only-of-type {\n",
              "        vertical-align: middle;\n",
              "    }\n",
              "\n",
              "    .dataframe tbody tr th {\n",
              "        vertical-align: top;\n",
              "    }\n",
              "\n",
              "    .dataframe thead th {\n",
              "        text-align: right;\n",
              "    }\n",
              "</style>\n",
              "<table border=\"1\" class=\"dataframe\">\n",
              "  <thead>\n",
              "    <tr style=\"text-align: right;\">\n",
              "      <th></th>\n",
              "      <th>feature-2</th>\n",
              "      <th>feature-9</th>\n",
              "      <th>feature-7</th>\n",
              "      <th>feature-10</th>\n",
              "      <th>feature-8</th>\n",
              "      <th>feature-3</th>\n",
              "      <th>feature-5</th>\n",
              "      <th>feature-4</th>\n",
              "      <th>feature-1</th>\n",
              "      <th>feature-6</th>\n",
              "      <th>label</th>\n",
              "    </tr>\n",
              "  </thead>\n",
              "  <tbody>\n",
              "    <tr>\n",
              "      <th>0</th>\n",
              "      <td>-1.361201</td>\n",
              "      <td>-2.633301</td>\n",
              "      <td>-2.767027</td>\n",
              "      <td>1.330340</td>\n",
              "      <td>-2.578661</td>\n",
              "      <td>0.019127</td>\n",
              "      <td>-0.129441</td>\n",
              "      <td>1.258976</td>\n",
              "      <td>-0.435779</td>\n",
              "      <td>1.540410</td>\n",
              "      <td>6</td>\n",
              "    </tr>\n",
              "    <tr>\n",
              "      <th>1</th>\n",
              "      <td>1.043431</td>\n",
              "      <td>0.116773</td>\n",
              "      <td>0.446827</td>\n",
              "      <td>-1.209138</td>\n",
              "      <td>0.078947</td>\n",
              "      <td>-0.038079</td>\n",
              "      <td>-0.232741</td>\n",
              "      <td>-1.673838</td>\n",
              "      <td>0.546354</td>\n",
              "      <td>-1.202334</td>\n",
              "      <td>2</td>\n",
              "    </tr>\n",
              "    <tr>\n",
              "      <th>2</th>\n",
              "      <td>0.490153</td>\n",
              "      <td>-0.185433</td>\n",
              "      <td>0.752908</td>\n",
              "      <td>-0.213083</td>\n",
              "      <td>-0.367223</td>\n",
              "      <td>0.117195</td>\n",
              "      <td>0.180459</td>\n",
              "      <td>0.018078</td>\n",
              "      <td>0.043010</td>\n",
              "      <td>0.060199</td>\n",
              "      <td>3</td>\n",
              "    </tr>\n",
              "    <tr>\n",
              "      <th>3</th>\n",
              "      <td>-0.414244</td>\n",
              "      <td>-0.245873</td>\n",
              "      <td>0.025965</td>\n",
              "      <td>0.471672</td>\n",
              "      <td>0.101897</td>\n",
              "      <td>0.284728</td>\n",
              "      <td>0.180459</td>\n",
              "      <td>0.800554</td>\n",
              "      <td>-0.177969</td>\n",
              "      <td>0.408484</td>\n",
              "      <td>2</td>\n",
              "    </tr>\n",
              "    <tr>\n",
              "      <th>4</th>\n",
              "      <td>-0.541924</td>\n",
              "      <td>1.053612</td>\n",
              "      <td>-1.274881</td>\n",
              "      <td>0.856926</td>\n",
              "      <td>0.278538</td>\n",
              "      <td>0.096764</td>\n",
              "      <td>1.006856</td>\n",
              "      <td>0.587833</td>\n",
              "      <td>0.460417</td>\n",
              "      <td>-0.113943</td>\n",
              "      <td>5</td>\n",
              "    </tr>\n",
              "  </tbody>\n",
              "</table>\n",
              "</div>"
            ],
            "text/plain": [
              "   feature-2  feature-9  feature-7  feature-10  feature-8  feature-3  \\\n",
              "0  -1.361201  -2.633301  -2.767027    1.330340  -2.578661   0.019127   \n",
              "1   1.043431   0.116773   0.446827   -1.209138   0.078947  -0.038079   \n",
              "2   0.490153  -0.185433   0.752908   -0.213083  -0.367223   0.117195   \n",
              "3  -0.414244  -0.245873   0.025965    0.471672   0.101897   0.284728   \n",
              "4  -0.541924   1.053612  -1.274881    0.856926   0.278538   0.096764   \n",
              "\n",
              "   feature-5  feature-4  feature-1  feature-6  label  \n",
              "0  -0.129441   1.258976  -0.435779   1.540410      6  \n",
              "1  -0.232741  -1.673838   0.546354  -1.202334      2  \n",
              "2   0.180459   0.018078   0.043010   0.060199      3  \n",
              "3   0.180459   0.800554  -0.177969   0.408484      2  \n",
              "4   1.006856   0.587833   0.460417  -0.113943      5  "
            ]
          },
          "metadata": {
            "tags": []
          },
          "execution_count": 8
        }
      ]
    },
    {
      "cell_type": "markdown",
      "metadata": {
        "id": "r-S9pLw4hQ7N",
        "colab_type": "text"
      },
      "source": [
        "Although it helps very little here, also Normalizing the dataset using Normalizer from sklearn."
      ]
    },
    {
      "cell_type": "code",
      "metadata": {
        "id": "j42QDgPJc534",
        "colab_type": "code",
        "colab": {}
      },
      "source": [
        "scaler = Normalizer().fit(scaled_data[features])\n",
        "scaled_data = pd.DataFrame(scaler.transform(scaled_data[features]))\n",
        "scaled_data.columns = features\n",
        "scaled_data = scaled_data.join(data['label'])\n",
        "scaled_data['label'] = scaled_data['label'] - 1"
      ],
      "execution_count": 0,
      "outputs": []
    },
    {
      "cell_type": "code",
      "metadata": {
        "id": "Y8rT-5VSULwe",
        "colab_type": "code",
        "outputId": "68e1f6a0-9d3a-44b7-fa58-ad2d43062f0a",
        "colab": {
          "base_uri": "https://localhost:8080/",
          "height": 204
        }
      },
      "source": [
        "scaled_data.head()"
      ],
      "execution_count": 0,
      "outputs": [
        {
          "output_type": "execute_result",
          "data": {
            "text/html": [
              "<div>\n",
              "<style scoped>\n",
              "    .dataframe tbody tr th:only-of-type {\n",
              "        vertical-align: middle;\n",
              "    }\n",
              "\n",
              "    .dataframe tbody tr th {\n",
              "        vertical-align: top;\n",
              "    }\n",
              "\n",
              "    .dataframe thead th {\n",
              "        text-align: right;\n",
              "    }\n",
              "</style>\n",
              "<table border=\"1\" class=\"dataframe\">\n",
              "  <thead>\n",
              "    <tr style=\"text-align: right;\">\n",
              "      <th></th>\n",
              "      <th>feature-2</th>\n",
              "      <th>feature-9</th>\n",
              "      <th>feature-7</th>\n",
              "      <th>feature-10</th>\n",
              "      <th>feature-8</th>\n",
              "      <th>feature-3</th>\n",
              "      <th>feature-5</th>\n",
              "      <th>feature-4</th>\n",
              "      <th>feature-1</th>\n",
              "      <th>feature-6</th>\n",
              "      <th>label</th>\n",
              "    </tr>\n",
              "  </thead>\n",
              "  <tbody>\n",
              "    <tr>\n",
              "      <th>0</th>\n",
              "      <td>-0.252648</td>\n",
              "      <td>-0.488758</td>\n",
              "      <td>-0.513578</td>\n",
              "      <td>0.246920</td>\n",
              "      <td>-0.478616</td>\n",
              "      <td>0.003550</td>\n",
              "      <td>-0.024025</td>\n",
              "      <td>0.233674</td>\n",
              "      <td>-0.080883</td>\n",
              "      <td>0.285910</td>\n",
              "      <td>6</td>\n",
              "    </tr>\n",
              "    <tr>\n",
              "      <th>1</th>\n",
              "      <td>0.384307</td>\n",
              "      <td>0.043009</td>\n",
              "      <td>0.164571</td>\n",
              "      <td>-0.445339</td>\n",
              "      <td>0.029077</td>\n",
              "      <td>-0.014025</td>\n",
              "      <td>-0.085721</td>\n",
              "      <td>-0.616493</td>\n",
              "      <td>0.201228</td>\n",
              "      <td>-0.442833</td>\n",
              "      <td>2</td>\n",
              "    </tr>\n",
              "    <tr>\n",
              "      <th>2</th>\n",
              "      <td>0.472996</td>\n",
              "      <td>-0.178942</td>\n",
              "      <td>0.726553</td>\n",
              "      <td>-0.205624</td>\n",
              "      <td>-0.354369</td>\n",
              "      <td>0.113092</td>\n",
              "      <td>0.174142</td>\n",
              "      <td>0.017445</td>\n",
              "      <td>0.041505</td>\n",
              "      <td>0.058091</td>\n",
              "      <td>3</td>\n",
              "    </tr>\n",
              "    <tr>\n",
              "      <th>3</th>\n",
              "      <td>-0.347793</td>\n",
              "      <td>-0.206431</td>\n",
              "      <td>0.021800</td>\n",
              "      <td>0.396009</td>\n",
              "      <td>0.085551</td>\n",
              "      <td>0.239053</td>\n",
              "      <td>0.151510</td>\n",
              "      <td>0.672132</td>\n",
              "      <td>-0.149420</td>\n",
              "      <td>0.342956</td>\n",
              "      <td>2</td>\n",
              "    </tr>\n",
              "    <tr>\n",
              "      <th>4</th>\n",
              "      <td>-0.232462</td>\n",
              "      <td>0.451955</td>\n",
              "      <td>-0.546870</td>\n",
              "      <td>0.367585</td>\n",
              "      <td>0.119481</td>\n",
              "      <td>0.041508</td>\n",
              "      <td>0.431899</td>\n",
              "      <td>0.252155</td>\n",
              "      <td>0.197499</td>\n",
              "      <td>-0.048877</td>\n",
              "      <td>5</td>\n",
              "    </tr>\n",
              "  </tbody>\n",
              "</table>\n",
              "</div>"
            ],
            "text/plain": [
              "   feature-2  feature-9  feature-7  feature-10  feature-8  feature-3  \\\n",
              "0  -0.252648  -0.488758  -0.513578    0.246920  -0.478616   0.003550   \n",
              "1   0.384307   0.043009   0.164571   -0.445339   0.029077  -0.014025   \n",
              "2   0.472996  -0.178942   0.726553   -0.205624  -0.354369   0.113092   \n",
              "3  -0.347793  -0.206431   0.021800    0.396009   0.085551   0.239053   \n",
              "4  -0.232462   0.451955  -0.546870    0.367585   0.119481   0.041508   \n",
              "\n",
              "   feature-5  feature-4  feature-1  feature-6  label  \n",
              "0  -0.024025   0.233674  -0.080883   0.285910      6  \n",
              "1  -0.085721  -0.616493   0.201228  -0.442833      2  \n",
              "2   0.174142   0.017445   0.041505   0.058091      3  \n",
              "3   0.151510   0.672132  -0.149420   0.342956      2  \n",
              "4   0.431899   0.252155   0.197499  -0.048877      5  "
            ]
          },
          "metadata": {
            "tags": []
          },
          "execution_count": 10
        }
      ]
    },
    {
      "cell_type": "markdown",
      "metadata": {
        "id": "d3kLMWfZhhQa",
        "colab_type": "text"
      },
      "source": [
        "Here're the labels."
      ]
    },
    {
      "cell_type": "code",
      "metadata": {
        "id": "1iKZypp-Um9V",
        "colab_type": "code",
        "outputId": "7028d007-c0a4-408c-ddb3-3d238948d29c",
        "colab": {
          "base_uri": "https://localhost:8080/",
          "height": 34
        }
      },
      "source": [
        "set(scaled_data['label'])"
      ],
      "execution_count": 0,
      "outputs": [
        {
          "output_type": "execute_result",
          "data": {
            "text/plain": [
              "{0, 1, 2, 3, 4, 5, 6}"
            ]
          },
          "metadata": {
            "tags": []
          },
          "execution_count": 11
        }
      ]
    },
    {
      "cell_type": "markdown",
      "metadata": {
        "id": "7W4PrRDShqat",
        "colab_type": "text"
      },
      "source": [
        "##Setting up the Neural Network for predicting the class the player belongs to."
      ]
    },
    {
      "cell_type": "markdown",
      "metadata": {
        "id": "H2YlcL0whugC",
        "colab_type": "text"
      },
      "source": [
        "###Importing Keras libraries"
      ]
    },
    {
      "cell_type": "code",
      "metadata": {
        "id": "assW4ihZUOQJ",
        "colab_type": "code",
        "colab": {}
      },
      "source": [
        "from keras.layers.core import Dense, Activation\n",
        "from keras.models import Sequential\n",
        "from keras.optimizers import Adam\n",
        "from keras.utils import np_utils"
      ],
      "execution_count": 0,
      "outputs": []
    },
    {
      "cell_type": "markdown",
      "metadata": {
        "id": "gHD9Sy1vh5YB",
        "colab_type": "text"
      },
      "source": [
        "###Defining the model\n",
        "\n",
        "Using the 'tanh' and 'softmax' activation functions.\n",
        "\n",
        "The model will be like :  tanh() --> tanh() --> tanh() -->tanh() --> tanh() --> softmax()\n",
        "\n",
        "Also, will be using the 'Categorical Cross Entropy' loss function and Adam() optimizer."
      ]
    },
    {
      "cell_type": "code",
      "metadata": {
        "id": "sT4FIMu4UTEX",
        "colab_type": "code",
        "colab": {}
      },
      "source": [
        "def nn_model(input_dim):\n",
        "    model = Sequential()\n",
        "    model.add(Dense(200, input_dim=input_dim))\n",
        "    model.add(Activation('tanh'))\n",
        "    \n",
        "    model.add(Dense(200))\n",
        "    model.add(Activation('tanh'))\n",
        "    \n",
        "    model.add(Dense(200))\n",
        "    model.add(Activation('tanh'))\n",
        "    \n",
        "    model.add(Dense(200))\n",
        "    model.add(Activation('tanh'))\n",
        "    \n",
        "    model.add(Dense(200))\n",
        "    model.add(Activation('tanh'))\n",
        "    \n",
        "    model.add(Dense(7))\n",
        "    model.add(Activation('softmax'))\n",
        "\n",
        "    model.compile(loss='categorical_crossentropy', optimizer = Adam())\n",
        "    return model"
      ],
      "execution_count": 0,
      "outputs": []
    },
    {
      "cell_type": "markdown",
      "metadata": {
        "id": "K4NDeWqKihPX",
        "colab_type": "text"
      },
      "source": [
        "###Training the model\n",
        "\n",
        "Training the model with the features and label by passing a batch of size 256 at a time, which goes on for 75 iterations.\n",
        "Also, creating a Validation set with 20% data so as to prevent overfitting of data."
      ]
    },
    {
      "cell_type": "code",
      "metadata": {
        "id": "v9WEbrLzU4bM",
        "colab_type": "code",
        "outputId": "6c98a4bc-ec4f-4bc6-d712-4d64c38d54b1",
        "colab": {
          "base_uri": "https://localhost:8080/",
          "height": 2601
        }
      },
      "source": [
        "nn = nn_model(len(features))\n",
        "nn.fit(scaled_data[features].values, np_utils.to_categorical(scaled_data.label.values), verbose=1, validation_split = 0.2, epochs = 75, batch_size=256)"
      ],
      "execution_count": 0,
      "outputs": [
        {
          "output_type": "stream",
          "text": [
            "Train on 5099 samples, validate on 1275 samples\n",
            "Epoch 1/75\n",
            "5099/5099 [==============================] - 3s 653us/step - loss: 1.3608 - val_loss: 1.0916\n",
            "Epoch 2/75\n",
            "5099/5099 [==============================] - 0s 50us/step - loss: 1.1201 - val_loss: 1.0536\n",
            "Epoch 3/75\n",
            "5099/5099 [==============================] - 0s 50us/step - loss: 1.0678 - val_loss: 0.9951\n",
            "Epoch 4/75\n",
            "5099/5099 [==============================] - 0s 52us/step - loss: 0.9981 - val_loss: 0.9141\n",
            "Epoch 5/75\n",
            "5099/5099 [==============================] - 0s 50us/step - loss: 0.9276 - val_loss: 0.8434\n",
            "Epoch 6/75\n",
            "5099/5099 [==============================] - 0s 50us/step - loss: 0.8807 - val_loss: 0.8149\n",
            "Epoch 7/75\n",
            "5099/5099 [==============================] - 0s 50us/step - loss: 0.8365 - val_loss: 0.7791\n",
            "Epoch 8/75\n",
            "5099/5099 [==============================] - 0s 51us/step - loss: 0.7992 - val_loss: 0.7535\n",
            "Epoch 9/75\n",
            "5099/5099 [==============================] - 0s 52us/step - loss: 0.7692 - val_loss: 0.7088\n",
            "Epoch 10/75\n",
            "5099/5099 [==============================] - 0s 51us/step - loss: 0.7342 - val_loss: 0.6978\n",
            "Epoch 11/75\n",
            "5099/5099 [==============================] - 0s 54us/step - loss: 0.7129 - val_loss: 0.6589\n",
            "Epoch 12/75\n",
            "5099/5099 [==============================] - 0s 52us/step - loss: 0.6842 - val_loss: 0.6349\n",
            "Epoch 13/75\n",
            "5099/5099 [==============================] - 0s 52us/step - loss: 0.6650 - val_loss: 0.6475\n",
            "Epoch 14/75\n",
            "5099/5099 [==============================] - 0s 52us/step - loss: 0.6368 - val_loss: 0.6262\n",
            "Epoch 15/75\n",
            "5099/5099 [==============================] - 0s 49us/step - loss: 0.6115 - val_loss: 0.5829\n",
            "Epoch 16/75\n",
            "5099/5099 [==============================] - 0s 48us/step - loss: 0.5841 - val_loss: 0.5749\n",
            "Epoch 17/75\n",
            "5099/5099 [==============================] - 0s 49us/step - loss: 0.5612 - val_loss: 0.5308\n",
            "Epoch 18/75\n",
            "5099/5099 [==============================] - 0s 51us/step - loss: 0.5310 - val_loss: 0.5296\n",
            "Epoch 19/75\n",
            "5099/5099 [==============================] - 0s 52us/step - loss: 0.5186 - val_loss: 0.5267\n",
            "Epoch 20/75\n",
            "5099/5099 [==============================] - 0s 52us/step - loss: 0.4938 - val_loss: 0.5029\n",
            "Epoch 21/75\n",
            "5099/5099 [==============================] - 0s 51us/step - loss: 0.4713 - val_loss: 0.4811\n",
            "Epoch 22/75\n",
            "5099/5099 [==============================] - 0s 52us/step - loss: 0.4567 - val_loss: 0.4653\n",
            "Epoch 23/75\n",
            "5099/5099 [==============================] - 0s 50us/step - loss: 0.4380 - val_loss: 0.4499\n",
            "Epoch 24/75\n",
            "5099/5099 [==============================] - 0s 51us/step - loss: 0.4089 - val_loss: 0.4358\n",
            "Epoch 25/75\n",
            "5099/5099 [==============================] - 0s 49us/step - loss: 0.3889 - val_loss: 0.4207\n",
            "Epoch 26/75\n",
            "5099/5099 [==============================] - 0s 51us/step - loss: 0.3699 - val_loss: 0.4121\n",
            "Epoch 27/75\n",
            "5099/5099 [==============================] - 0s 52us/step - loss: 0.3572 - val_loss: 0.3968\n",
            "Epoch 28/75\n",
            "5099/5099 [==============================] - 0s 50us/step - loss: 0.3366 - val_loss: 0.3813\n",
            "Epoch 29/75\n",
            "5099/5099 [==============================] - 0s 49us/step - loss: 0.3235 - val_loss: 0.3717\n",
            "Epoch 30/75\n",
            "5099/5099 [==============================] - 0s 49us/step - loss: 0.3020 - val_loss: 0.3498\n",
            "Epoch 31/75\n",
            "5099/5099 [==============================] - 0s 50us/step - loss: 0.2873 - val_loss: 0.3367\n",
            "Epoch 32/75\n",
            "5099/5099 [==============================] - 0s 50us/step - loss: 0.2799 - val_loss: 0.3426\n",
            "Epoch 33/75\n",
            "5099/5099 [==============================] - 0s 52us/step - loss: 0.2674 - val_loss: 0.3299\n",
            "Epoch 34/75\n",
            "5099/5099 [==============================] - 0s 56us/step - loss: 0.2523 - val_loss: 0.3275\n",
            "Epoch 35/75\n",
            "5099/5099 [==============================] - 0s 49us/step - loss: 0.2346 - val_loss: 0.3102\n",
            "Epoch 36/75\n",
            "5099/5099 [==============================] - 0s 51us/step - loss: 0.2208 - val_loss: 0.3127\n",
            "Epoch 37/75\n",
            "5099/5099 [==============================] - 0s 51us/step - loss: 0.2106 - val_loss: 0.2905\n",
            "Epoch 38/75\n",
            "5099/5099 [==============================] - 0s 53us/step - loss: 0.1934 - val_loss: 0.2886\n",
            "Epoch 39/75\n",
            "5099/5099 [==============================] - 0s 51us/step - loss: 0.1846 - val_loss: 0.2806\n",
            "Epoch 40/75\n",
            "5099/5099 [==============================] - 0s 50us/step - loss: 0.1750 - val_loss: 0.2758\n",
            "Epoch 41/75\n",
            "5099/5099 [==============================] - 0s 51us/step - loss: 0.1628 - val_loss: 0.2652\n",
            "Epoch 42/75\n",
            "5099/5099 [==============================] - 0s 53us/step - loss: 0.1577 - val_loss: 0.2621\n",
            "Epoch 43/75\n",
            "5099/5099 [==============================] - 0s 51us/step - loss: 0.1503 - val_loss: 0.2567\n",
            "Epoch 44/75\n",
            "5099/5099 [==============================] - 0s 50us/step - loss: 0.1404 - val_loss: 0.2654\n",
            "Epoch 45/75\n",
            "5099/5099 [==============================] - 0s 51us/step - loss: 0.1355 - val_loss: 0.2506\n",
            "Epoch 46/75\n",
            "5099/5099 [==============================] - 0s 50us/step - loss: 0.1258 - val_loss: 0.2510\n",
            "Epoch 47/75\n",
            "5099/5099 [==============================] - 0s 48us/step - loss: 0.1165 - val_loss: 0.2355\n",
            "Epoch 48/75\n",
            "5099/5099 [==============================] - 0s 49us/step - loss: 0.1077 - val_loss: 0.2380\n",
            "Epoch 49/75\n",
            "5099/5099 [==============================] - 0s 50us/step - loss: 0.1028 - val_loss: 0.2417\n",
            "Epoch 50/75\n",
            "5099/5099 [==============================] - 0s 51us/step - loss: 0.0953 - val_loss: 0.2343\n",
            "Epoch 51/75\n",
            "5099/5099 [==============================] - 0s 49us/step - loss: 0.0910 - val_loss: 0.2308\n",
            "Epoch 52/75\n",
            "5099/5099 [==============================] - 0s 49us/step - loss: 0.0917 - val_loss: 0.2252\n",
            "Epoch 53/75\n",
            "5099/5099 [==============================] - 0s 50us/step - loss: 0.0842 - val_loss: 0.2306\n",
            "Epoch 54/75\n",
            "5099/5099 [==============================] - 0s 48us/step - loss: 0.0748 - val_loss: 0.2152\n",
            "Epoch 55/75\n",
            "5099/5099 [==============================] - 0s 50us/step - loss: 0.0695 - val_loss: 0.2132\n",
            "Epoch 56/75\n",
            "5099/5099 [==============================] - 0s 54us/step - loss: 0.0622 - val_loss: 0.2242\n",
            "Epoch 57/75\n",
            "5099/5099 [==============================] - 0s 54us/step - loss: 0.0612 - val_loss: 0.2266\n",
            "Epoch 58/75\n",
            "5099/5099 [==============================] - 0s 53us/step - loss: 0.0681 - val_loss: 0.2223\n",
            "Epoch 59/75\n",
            "5099/5099 [==============================] - 0s 52us/step - loss: 0.0618 - val_loss: 0.2186\n",
            "Epoch 60/75\n",
            "5099/5099 [==============================] - 0s 52us/step - loss: 0.0548 - val_loss: 0.2314\n",
            "Epoch 61/75\n",
            "5099/5099 [==============================] - 0s 51us/step - loss: 0.0578 - val_loss: 0.2216\n",
            "Epoch 62/75\n",
            "5099/5099 [==============================] - 0s 50us/step - loss: 0.0469 - val_loss: 0.2194\n",
            "Epoch 63/75\n",
            "5099/5099 [==============================] - 0s 50us/step - loss: 0.0488 - val_loss: 0.2657\n",
            "Epoch 64/75\n",
            "5099/5099 [==============================] - 0s 51us/step - loss: 0.0519 - val_loss: 0.2201\n",
            "Epoch 65/75\n",
            "5099/5099 [==============================] - 0s 52us/step - loss: 0.0429 - val_loss: 0.2273\n",
            "Epoch 66/75\n",
            "5099/5099 [==============================] - 0s 50us/step - loss: 0.0392 - val_loss: 0.2158\n",
            "Epoch 67/75\n",
            "5099/5099 [==============================] - 0s 52us/step - loss: 0.0335 - val_loss: 0.2068\n",
            "Epoch 68/75\n",
            "5099/5099 [==============================] - 0s 50us/step - loss: 0.0353 - val_loss: 0.2138\n",
            "Epoch 69/75\n",
            "5099/5099 [==============================] - 0s 50us/step - loss: 0.0324 - val_loss: 0.2040\n",
            "Epoch 70/75\n",
            "5099/5099 [==============================] - 0s 50us/step - loss: 0.0306 - val_loss: 0.2171\n",
            "Epoch 71/75\n",
            "5099/5099 [==============================] - 0s 50us/step - loss: 0.0281 - val_loss: 0.2061\n",
            "Epoch 72/75\n",
            "5099/5099 [==============================] - 0s 50us/step - loss: 0.0262 - val_loss: 0.2116\n",
            "Epoch 73/75\n",
            "5099/5099 [==============================] - 0s 49us/step - loss: 0.0250 - val_loss: 0.2242\n",
            "Epoch 74/75\n",
            "5099/5099 [==============================] - 0s 50us/step - loss: 0.0281 - val_loss: 0.2310\n",
            "Epoch 75/75\n",
            "5099/5099 [==============================] - 0s 50us/step - loss: 0.0265 - val_loss: 0.2106\n"
          ],
          "name": "stdout"
        },
        {
          "output_type": "execute_result",
          "data": {
            "text/plain": [
              "<keras.callbacks.History at 0x7f91b06f7dd8>"
            ]
          },
          "metadata": {
            "tags": []
          },
          "execution_count": 93
        }
      ]
    },
    {
      "cell_type": "markdown",
      "metadata": {
        "id": "9KQ9Mc6-imcv",
        "colab_type": "text"
      },
      "source": [
        "##Time for prediction!"
      ]
    },
    {
      "cell_type": "markdown",
      "metadata": {
        "id": "2XvNVfglipXr",
        "colab_type": "text"
      },
      "source": [
        "###Loading the test dataset\n",
        "\n",
        "Also, scaling the datset with Standard Scaler."
      ]
    },
    {
      "cell_type": "code",
      "metadata": {
        "id": "7rkRgSaxVG7C",
        "colab_type": "code",
        "colab": {}
      },
      "source": [
        "test = pd.read_csv('data_test.csv')\n",
        "\n",
        "scaler = StandardScaler()\n",
        "scaler.fit(test[features])\n",
        "test_data = pd.DataFrame(scaler.transform(test[features]))\n",
        "test_data.columns = features"
      ],
      "execution_count": 0,
      "outputs": []
    },
    {
      "cell_type": "markdown",
      "metadata": {
        "id": "s2VK1EEyiz8p",
        "colab_type": "text"
      },
      "source": [
        "###Predicting the result"
      ]
    },
    {
      "cell_type": "code",
      "metadata": {
        "id": "r5V8V76QZiFA",
        "colab_type": "code",
        "outputId": "216c06ac-6158-4fae-9b02-fbd0d1412d9d",
        "colab": {
          "base_uri": "https://localhost:8080/",
          "height": 34
        }
      },
      "source": [
        "result = nn.predict_classes(test_data) + 1\n",
        "result"
      ],
      "execution_count": 0,
      "outputs": [
        {
          "output_type": "execute_result",
          "data": {
            "text/plain": [
              "array([6, 2, 4, ..., 6, 2, 3])"
            ]
          },
          "metadata": {
            "tags": []
          },
          "execution_count": 88
        }
      ]
    },
    {
      "cell_type": "code",
      "metadata": {
        "id": "IPrph80IQ5CF",
        "colab_type": "code",
        "outputId": "13de6d26-fc64-4250-ea61-1ac66e24807b",
        "colab": {
          "base_uri": "https://localhost:8080/",
          "height": 204
        }
      },
      "source": [
        "test_data.head()"
      ],
      "execution_count": 0,
      "outputs": [
        {
          "output_type": "execute_result",
          "data": {
            "text/html": [
              "<div>\n",
              "<style scoped>\n",
              "    .dataframe tbody tr th:only-of-type {\n",
              "        vertical-align: middle;\n",
              "    }\n",
              "\n",
              "    .dataframe tbody tr th {\n",
              "        vertical-align: top;\n",
              "    }\n",
              "\n",
              "    .dataframe thead th {\n",
              "        text-align: right;\n",
              "    }\n",
              "</style>\n",
              "<table border=\"1\" class=\"dataframe\">\n",
              "  <thead>\n",
              "    <tr style=\"text-align: right;\">\n",
              "      <th></th>\n",
              "      <th>feature-2</th>\n",
              "      <th>feature-9</th>\n",
              "      <th>feature-7</th>\n",
              "      <th>feature-10</th>\n",
              "      <th>feature-8</th>\n",
              "      <th>feature-3</th>\n",
              "      <th>feature-5</th>\n",
              "      <th>feature-4</th>\n",
              "      <th>feature-1</th>\n",
              "      <th>feature-6</th>\n",
              "    </tr>\n",
              "  </thead>\n",
              "  <tbody>\n",
              "    <tr>\n",
              "      <th>0</th>\n",
              "      <td>-0.164770</td>\n",
              "      <td>0.817177</td>\n",
              "      <td>-1.333763</td>\n",
              "      <td>0.306915</td>\n",
              "      <td>2.008506</td>\n",
              "      <td>8.614379</td>\n",
              "      <td>-5.757850</td>\n",
              "      <td>2.102741</td>\n",
              "      <td>-3.751447</td>\n",
              "      <td>-0.563865</td>\n",
              "    </tr>\n",
              "    <tr>\n",
              "      <th>1</th>\n",
              "      <td>0.455190</td>\n",
              "      <td>1.340513</td>\n",
              "      <td>1.009032</td>\n",
              "      <td>0.285681</td>\n",
              "      <td>0.538641</td>\n",
              "      <td>0.423308</td>\n",
              "      <td>-3.195267</td>\n",
              "      <td>1.320126</td>\n",
              "      <td>-0.195867</td>\n",
              "      <td>0.801358</td>\n",
              "    </tr>\n",
              "    <tr>\n",
              "      <th>2</th>\n",
              "      <td>1.088629</td>\n",
              "      <td>0.263056</td>\n",
              "      <td>0.598016</td>\n",
              "      <td>-1.099599</td>\n",
              "      <td>0.497528</td>\n",
              "      <td>-0.012829</td>\n",
              "      <td>0.187342</td>\n",
              "      <td>-0.135302</td>\n",
              "      <td>-0.025931</td>\n",
              "      <td>-0.990498</td>\n",
              "    </tr>\n",
              "    <tr>\n",
              "      <th>3</th>\n",
              "      <td>-0.555615</td>\n",
              "      <td>0.355409</td>\n",
              "      <td>-1.292661</td>\n",
              "      <td>1.279876</td>\n",
              "      <td>-1.467037</td>\n",
              "      <td>0.003785</td>\n",
              "      <td>1.007368</td>\n",
              "      <td>0.050291</td>\n",
              "      <td>0.457734</td>\n",
              "      <td>0.374725</td>\n",
              "    </tr>\n",
              "    <tr>\n",
              "      <th>4</th>\n",
              "      <td>-0.137816</td>\n",
              "      <td>-0.137141</td>\n",
              "      <td>0.474711</td>\n",
              "      <td>0.464312</td>\n",
              "      <td>0.759993</td>\n",
              "      <td>-0.087596</td>\n",
              "      <td>0.187342</td>\n",
              "      <td>0.866456</td>\n",
              "      <td>-0.012859</td>\n",
              "      <td>0.673368</td>\n",
              "    </tr>\n",
              "  </tbody>\n",
              "</table>\n",
              "</div>"
            ],
            "text/plain": [
              "   feature-2  feature-9  feature-7  feature-10  feature-8  feature-3  \\\n",
              "0  -0.164770   0.817177  -1.333763    0.306915   2.008506   8.614379   \n",
              "1   0.455190   1.340513   1.009032    0.285681   0.538641   0.423308   \n",
              "2   1.088629   0.263056   0.598016   -1.099599   0.497528  -0.012829   \n",
              "3  -0.555615   0.355409  -1.292661    1.279876  -1.467037   0.003785   \n",
              "4  -0.137816  -0.137141   0.474711    0.464312   0.759993  -0.087596   \n",
              "\n",
              "   feature-5  feature-4  feature-1  feature-6  \n",
              "0  -5.757850   2.102741  -3.751447  -0.563865  \n",
              "1  -3.195267   1.320126  -0.195867   0.801358  \n",
              "2   0.187342  -0.135302  -0.025931  -0.990498  \n",
              "3   1.007368   0.050291   0.457734   0.374725  \n",
              "4   0.187342   0.866456  -0.012859   0.673368  "
            ]
          },
          "metadata": {
            "tags": []
          },
          "execution_count": 89
        }
      ]
    },
    {
      "cell_type": "code",
      "metadata": {
        "id": "wmEHKbRCZmrv",
        "colab_type": "code",
        "outputId": "b8d2c04d-ff57-4ee6-a029-89459e4d6c70",
        "colab": {
          "base_uri": "https://localhost:8080/",
          "height": 34
        }
      },
      "source": [
        "len(result)"
      ],
      "execution_count": 0,
      "outputs": [
        {
          "output_type": "execute_result",
          "data": {
            "text/plain": [
              "3000"
            ]
          },
          "metadata": {
            "tags": []
          },
          "execution_count": 90
        }
      ]
    },
    {
      "cell_type": "markdown",
      "metadata": {
        "id": "ErfMqjuzi_gw",
        "colab_type": "text"
      },
      "source": [
        "##Creating the output file for submission"
      ]
    },
    {
      "cell_type": "code",
      "metadata": {
        "id": "FwnatlNXZqVE",
        "colab_type": "code",
        "colab": {}
      },
      "source": [
        "import numpy as np\n",
        "np.savetxt(\"submission.csv\", result, fmt='%s')"
      ],
      "execution_count": 0,
      "outputs": []
    }
  ]
}